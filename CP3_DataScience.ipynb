{
 "cells": [
  {
   "cell_type": "markdown",
   "metadata": {},
   "source": [
    "### CP3 - Data Science\n",
    "\n",
    "- ### Fabrício Saavedra - RM97631\n",
    "- ### Guilherme Akio - RM98582\n",
    "- ### Matheus Motta - RM550352\n",
    "\n",
    "### Base: https://www.kaggle.com/datasets/sobhanmoosavi/us-accidents"
   ]
  },
  {
   "cell_type": "markdown",
   "metadata": {},
   "source": [
    "#### Bibliotecas"
   ]
  },
  {
   "cell_type": "code",
   "execution_count": 2,
   "metadata": {},
   "outputs": [],
   "source": [
    "import pandas as pd"
   ]
  },
  {
   "cell_type": "markdown",
   "metadata": {},
   "source": [
    "#### Tratamento de Base\n",
    "Redução do tamanho do arquivo a ser trabalhado"
   ]
  },
  {
   "cell_type": "code",
   "execution_count": null,
   "metadata": {},
   "outputs": [],
   "source": [
    "df = pd.read_csv('US_Accidents_March23.csv')\n",
    "\n",
    "# Converter 'Start_Time' para datetime, caso ainda não esteja\n",
    "df['Start_Time'] = pd.to_datetime(df['Start_Time'])\n",
    "\n",
    "# Filtrar os dados para os anos entre 2021 e 2023\n",
    "filtered_df = df[(df['Start_Time'].dt.year >= 2021) & (df['Start_Time'].dt.year <= 2023)]\n",
    "\n",
    "# Salvar a tabela filtrada em um novo arquivo CSV (ou trabalhar diretamente com filtered_df)\n",
    "filtered_df.to_csv('US_Accidents_2021_2023.csv', index=False)\n",
    "\n",
    "print(\"Tabela menor criada com sucesso!\")"
   ]
  },
  {
   "cell_type": "markdown",
   "metadata": {},
   "source": [
    "#### Contulta de Endereço via API\n",
    "\n",
    "Pegar informação de Rua, Bairro, Cidade, Estado e País"
   ]
  },
  {
   "cell_type": "code",
   "execution_count": null,
   "metadata": {},
   "outputs": [],
   "source": [
    "# A fazer"
   ]
  },
  {
   "cell_type": "markdown",
   "metadata": {},
   "source": [
    "#### Estados com Maiores Casos"
   ]
  },
  {
   "cell_type": "code",
   "execution_count": null,
   "metadata": {},
   "outputs": [],
   "source": []
  }
 ],
 "metadata": {
  "kernelspec": {
   "display_name": "Python 3",
   "language": "python",
   "name": "python3"
  },
  "language_info": {
   "codemirror_mode": {
    "name": "ipython",
    "version": 3
   },
   "file_extension": ".py",
   "mimetype": "text/x-python",
   "name": "python",
   "nbconvert_exporter": "python",
   "pygments_lexer": "ipython3",
   "version": "3.11.0"
  }
 },
 "nbformat": 4,
 "nbformat_minor": 2
}
